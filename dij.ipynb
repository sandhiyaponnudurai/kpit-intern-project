{
 "cells": [
  {
   "cell_type": "markdown",
   "metadata": {},
   "source": [
    "# Path Planning for Autonomous Vehicle - Dijkstra Algorithm"
   ]
  },
  {
   "cell_type": "markdown",
   "metadata": {},
   "source": [
    "Import library package"
   ]
  },
  {
   "cell_type": "code",
   "execution_count": 1,
   "metadata": {},
   "outputs": [],
   "source": [
    "import networkx as n\n"
   ]
  },
  {
   "cell_type": "markdown",
   "metadata": {},
   "source": [
    "Graphical Representation "
   ]
  },
  {
   "cell_type": "code",
   "execution_count": 2,
   "metadata": {},
   "outputs": [],
   "source": [
    "G_symmetric = n.Graph()\n",
    "G_symmetric.add_edge('X', 'A', weight=7)\n",
    "G_symmetric.add_edge('X', 'B', weight=2)\n",
    "G_symmetric.add_edge('X', 'C', weight=3)\n",
    "G_symmetric.add_edge('X', 'E', weight=4)\n",
    "G_symmetric.add_edge('A', 'B', weight=3)\n",
    "G_symmetric.add_edge('A', 'D', weight=4)\n",
    "G_symmetric.add_edge('B', 'D', weight=4)\n",
    "G_symmetric.add_edge('B', 'H', weight=5)\n",
    "G_symmetric.add_edge('C', 'L', weight=2)\n",
    "G_symmetric.add_edge('D', 'F', weight=1)\n",
    "G_symmetric.add_edge('F', 'H', weight=3)\n",
    "G_symmetric.add_edge('G', 'H', weight=2)\n",
    "G_symmetric.add_edge('G', 'Y', weight=2)\n",
    "G_symmetric.add_edge('I', 'J', weight=6)\n",
    "G_symmetric.add_edge('I', 'K', weight=4)\n",
    "G_symmetric.add_edge('I', 'L', weight=4)\n",
    "G_symmetric.add_edge('J', 'L', weight=1)\n",
    "G_symmetric.add_edge('K', 'Y', weight=5)"
   ]
  },
  {
   "cell_type": "code",
   "execution_count": 4,
   "metadata": {},
   "outputs": [
    {
     "data": {
      "image/png": "[encoded data removed]",
      "text/plain": [
       "<Figure size 432x288 with 1 Axes>"
      ]
     },
     "metadata": {
      "needs_background": "light"
     },
     "output_type": "display_data"
    }
   ],
   "source": [
    "n.draw_networkx(G_symmetric)"
   ]
  },
  {
   "cell_type": "code",
   "execution_count": 5,
   "metadata": {},
   "outputs": [],
   "source": [
    "from collections import defaultdict"
   ]
  },
  {
   "cell_type": "markdown",
   "metadata": {},
   "source": [
    "Creating a weighted graph "
   ]
  },
  {
   "cell_type": "code",
   "execution_count": 6,
   "metadata": {},
   "outputs": [],
   "source": [
    "class Graphnetwork():\n",
    "    def __init__(self):\n",
    "        \n",
    "        self.edges = defaultdict(list)\n",
    "        self.weights = {}\n",
    "\n",
    "    \n",
    "    def add_edges(self, source, destination, cost):\n",
    "        \n",
    "        self.edges[source].append(destination)\n",
    "        self.edges[destination].append(source)\n",
    "        self.weights[(source, destination)] = cost\n",
    "        self.weights[(destination, source)] = cost\n"
   ]
  },
  {
   "cell_type": "code",
   "execution_count": 7,
   "metadata": {},
   "outputs": [],
   "source": [
    "graph = Graphnetwork()"
   ]
  },
  {
   "cell_type": "code",
   "execution_count": 8,
   "metadata": {},
   "outputs": [],
   "source": [
    "edges = [\n",
    "    ('X', 'A', 7),\n",
    "    ('X', 'B', 2),\n",
    "    ('X', 'C', 3),\n",
    "    ('X', 'E', 4),\n",
    "    ('A', 'B', 3),\n",
    "    ('A', 'D', 4),\n",
    "    ('B', 'D', 4),\n",
    "    ('B', 'H', 5),\n",
    "    ('C', 'L', 2),\n",
    "    ('D', 'F', 1),\n",
    "    ('F', 'H', 3),\n",
    "    ('G', 'H', 2),\n",
    "    ('G', 'Y', 2),\n",
    "    ('I', 'J', 6),\n",
    "    ('I', 'K', 4),\n",
    "    ('I', 'L', 4),\n",
    "    ('J', 'L', 1),\n",
    "    ('K', 'Y', 5),\n",
    "]\n",
    "\n",
    "for edge in edges:\n",
    "    graph.add_edges(*edge)"
   ]
  },
  {
   "cell_type": "markdown",
   "metadata": {},
   "source": [
    "Function for Dijkstra Algorithm"
   ]
  },
  {
   "cell_type": "code",
   "execution_count": 9,
   "metadata": {},
   "outputs": [],
   "source": [
    "def Dijkstra(graph, start, end):\n",
    "\n",
    "    shortest_path = {start: (None, 0)}\n",
    "    current_node = start\n",
    "    visited = set()\n",
    "    \n",
    "    while current_node != end:\n",
    "        visited.add(current_node)\n",
    "        destinations = graph.edges[current_node]\n",
    "        weight_current_node = shortest_path[current_node][1]\n",
    "        \n",
    "\n",
    "        for next_node in destinations:\n",
    "            weight = graph.weights[(current_node, next_node)] + weight_current_node\n",
    "            \n",
    "            if next_node not in shortest_path:\n",
    "                shortest_path[next_node] = (current_node, weight)\n",
    "                \n",
    "            else:\n",
    "                current_shortest_weight = shortest_path[next_node][1]\n",
    "                \n",
    "               \n",
    "                if current_shortest_weight > weight:\n",
    "                    shortest_path[next_node] = (current_node, weight)\n",
    "                    \n",
    "        \n",
    "        next_destination = {node: shortest_path[node] for node in shortest_path if node not in visited}\n",
    "        \n",
    "        if not next_destination:\n",
    "            return \"Route Not Possible\"\n",
    "        # next node is the destination with the lowest weight\n",
    "        current_node = min(next_destination, key=lambda k: next_destination[k][1])\n",
    "        \n",
    "    \n",
    "    # Work back through destinations in shortest path\n",
    "    path = []\n",
    "    while current_node is not None:\n",
    "        path.append(current_node)\n",
    "        next_node = shortest_path[current_node][0]\n",
    "        current_node = next_node\n",
    "   \n",
    "    # Reverse path\n",
    "    path = path[::-1]\n",
    "    return path"
   ]
  },
  {
   "cell_type": "code",
   "execution_count": 10,
   "metadata": {},
   "outputs": [
    {
     "name": "stdout",
     "output_type": "stream",
     "text": [
      "Enter source node: G\n",
      "Enter destination node: Y\n"
     ]
    }
   ],
   "source": [
    "src = str(input ('Enter source node: '))\n",
    "des = str(input ('Enter destination node: '))\n"
   ]
  },
  {
   "cell_type": "code",
   "execution_count": 11,
   "metadata": {},
   "outputs": [
    {
     "data": {
      "text/plain": [
       "['G', 'Y']"
      ]
     },
     "execution_count": 11,
     "metadata": {},
     "output_type": "execute_result"
    }
   ],
   "source": [
    "Dijkstra(graph, src, des)"
   ]
  },
  {
   "cell_type": "code",
   "execution_count": 12,
   "metadata": {},
   "outputs": [
    {
     "name": "stdout",
     "output_type": "stream",
     "text": [
      "No. of Edges: 18\n",
      "No. of Nodes: 14\n"
     ]
    }
   ],
   "source": [
    "print ('No. of Edges:', G_symmetric.number_of_edges())\n",
    "print ('No. of Nodes:', G_symmetric.number_of_nodes())"
   ]
  },
  {
   "cell_type": "markdown",
   "metadata": {},
   "source": [
    "Finding the shortest distance of cost:"
   ]
  },
  {
   "cell_type": "code",
   "execution_count": 13,
   "metadata": {},
   "outputs": [],
   "source": [
    "from collections import defaultdict\n",
    "from heapq import *\n",
    "\n",
    "def dijshp(edges, f, t):\n",
    "    g = defaultdict(list)\n",
    "    for l,r,c in edges:\n",
    "        \n",
    "        g[l].append((c, r))\n",
    "        g[r].append((c, l))\n",
    "    q, seen, mins = [(0,f,())], set(), {f: 0}\n",
    "    while q:\n",
    "        (cost,v1,path) = heappop(q)\n",
    "        if v1 not in seen:\n",
    "            seen.add(v1)\n",
    "            path = (v1, path)\n",
    "            if v1 == t: return (cost, path)\n",
    "\n",
    "            for c, v2 in g.get(v1, ()):\n",
    "                if v2 in seen: continue\n",
    "                prev = mins.get(v2, None)\n",
    "                next = cost + c\n",
    "                if prev is None or next < prev:\n",
    "                    mins[v2] = next\n",
    "                    heappush(q, (next, v2, path))\n",
    "\n",
    "    return float(\"inf\")\n"
   ]
  },
  {
   "cell_type": "code",
   "execution_count": 14,
   "metadata": {},
   "outputs": [
    {
     "name": "stdout",
     "output_type": "stream",
     "text": [
      "Dijkstra - Shortest path distance of cost\n",
      "[('X', 'A', 7), ('X', 'B', 2), ('X', 'C', 3), ('X', 'E', 4), ('A', 'B', 3), ('A', 'D', 4), ('B', 'D', 4), ('B', 'H', 5), ('C', 'L', 2), ('D', 'F', 1), ('F', 'H', 3), ('G', 'H', 2), ('G', 'Y', 2), ('I', 'J', 6), ('I', 'K', 4), ('I', 'L', 4), ('J', 'L', 1), ('K', 'Y', 5)]\n",
      "source <-> destination:\n",
      "G <-> Y\n",
      "(2, ('Y', ('G', ())))\n"
     ]
    }
   ],
   "source": [
    "if __name__ == \"__main__\":\n",
    "    edges = [\n",
    "        ('X', 'A', 7),\n",
    "        ('X', 'B', 2),\n",
    "        ('X', 'C', 3),\n",
    "        ('X', 'E', 4),\n",
    "        ('A', 'B', 3),\n",
    "        ('A', 'D', 4),\n",
    "        ('B', 'D', 4),\n",
    "        ('B', 'H', 5),\n",
    "        ('C', 'L', 2),\n",
    "        ('D', 'F', 1),\n",
    "        ('F', 'H', 3),\n",
    "        ('G', 'H', 2),\n",
    "        ('G', 'Y', 2),\n",
    "        ('I', 'J', 6),\n",
    "        ('I', 'K', 4),\n",
    "        ('I', 'L', 4),\n",
    "        ('J', 'L', 1),\n",
    "        ('K', 'Y', 5),\n",
    "    ]\n",
    "\n",
    "    print (\"Dijkstra - Shortest path distance of cost\")\n",
    "    print (edges)\n",
    "    print (\"source <-> destination:\")\n",
    "    print (src,\"<->\",des)\n",
    "    print (dijshp(edges, src, des))\n"
   ]
  },
  {
   "cell_type": "code",
   "execution_count": null,
   "metadata": {},
   "outputs": [],
   "source": []
  },
  {
   "cell_type": "code",
   "execution_count": null,
   "metadata": {},
   "outputs": [],
   "source": []
  }
 ],
 "metadata": {
  "kernelspec": {
   "display_name": "Python 3",
   "language": "python",
   "name": "python3"
  },
  "language_info": {
   "codemirror_mode": {
    "name": "ipython",
    "version": 3
   },
   "file_extension": ".py",
   "mimetype": "text/x-python",
   "name": "python",
   "nbconvert_exporter": "python",
   "pygments_lexer": "ipython3",
   "version": "3.7.3"
  }
 },
 "nbformat": 4,
 "nbformat_minor": 2
}
